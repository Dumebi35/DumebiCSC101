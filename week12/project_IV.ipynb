{
 "cells": [
  {
   "cell_type": "markdown",
   "metadata": {},
   "source": [
    "# Grade Generator"
   ]
  },
  {
   "cell_type": "code",
   "execution_count": null,
   "metadata": {},
   "outputs": [],
   "source": [
    "#this programme calculates your grade for the Computer Science course"
   ]
  },
  {
   "cell_type": "code",
   "execution_count": 17,
   "metadata": {},
   "outputs": [
    {
     "name": "stdout",
     "output_type": "stream",
     "text": [
      "What is your name? Dumebi\n"
     ]
    }
   ],
   "source": [
    "#get the student's name\n",
    "name = input(\"What is your name? \")"
   ]
  },
  {
   "cell_type": "code",
   "execution_count": 9,
   "metadata": {},
   "outputs": [
    {
     "name": "stdout",
     "output_type": "stream",
     "text": [
      "What was your score in the first CA over 10? 9\n",
      "What was your score in the second CA over 10? 5\n",
      "What was your score in the third CA over 10? 6\n",
      "Your total CA score is  20\n"
     ]
    }
   ],
   "source": [
    "#get the students score in each CA\n",
    "CA1 = int(input(\"What was your score in the first CA over 10? \"))\n",
    "CA2 = int(input(\"What was your score in the second CA over 10? \"))\n",
    "CA3 = int(input(\"What was your score in the third CA over 10? \"))\n",
    "\n",
    "average = CA1 + CA2 + CA3\n",
    "print(\"Your total CA score is \", average, \"over 30\")"
   ]
  },
  {
   "cell_type": "code",
   "execution_count": 15,
   "metadata": {},
   "outputs": [
    {
     "name": "stdout",
     "output_type": "stream",
     "text": [
      "What are your participation marks over 5? 4\n"
     ]
    }
   ],
   "source": [
    "#get the participation marks\n",
    "participate = int(input(\"What are your participation marks over 5? \"))"
   ]
  },
  {
   "cell_type": "code",
   "execution_count": 23,
   "metadata": {},
   "outputs": [
    {
     "name": "stdout",
     "output_type": "stream",
     "text": [
      "How many times have you attended class? 9\n",
      "Your attendance percentage for the semester is  75.0 %\n"
     ]
    }
   ],
   "source": [
    "#get the attendance of the student\n",
    "attend = int(input(\"How many times have you attended class? \"))\n",
    "\n",
    "#calculate the percentage attendance\n",
    "percent = (attend/12) * 100\n",
    "print(\"Your attendance percentage for the semester is \", percent, \"%\")"
   ]
  },
  {
   "cell_type": "code",
   "execution_count": null,
   "metadata": {},
   "outputs": [],
   "source": []
  },
  {
   "cell_type": "code",
   "execution_count": 24,
   "metadata": {},
   "outputs": [
    {
     "name": "stdout",
     "output_type": "stream",
     "text": [
      "This person was allowed to write exam\n",
      "The exam was over a 100 marks\n",
      "What was the exam score?90\n",
      "Your total semester percentage is  82.5\n",
      "Dumebi You have a grade of A in Computer Science\n"
     ]
    }
   ],
   "source": [
    "#get the total score when percentage is above 70\n",
    "if percent >= 70:\n",
    "    print(\"This person was allowed to write exam\")\n",
    "    print(\"The exam was over a 100 marks\")\n",
    "    exam = int(input(\"What was the exam score?\"))\n",
    "    per_exam = (exam/100) * 65\n",
    "    total = per_exam + average + participate\n",
    "    print(\"Your total semester percentage is \", total)\n",
    "    \n",
    "    #print the user's grade\n",
    "    if total >= 70:\n",
    "        print(name, \"You have a grade of A in Computer Science\")\n",
    "    elif 60 <= total< 70:\n",
    "        print(name, \"You have a grade of B in Computer Science\")\n",
    "    elif 50<= total< 60:\n",
    "        print(name, \"You have a grade of C in Computer Science\")\n",
    "    elif 40<= total< 50:\n",
    "        print(name, \"You have a grade of D in Computer Science\")\n",
    "    else:\n",
    "        print(name, \"You failed. You have an F in Computer Science\")\n",
    "else:\n",
    "    print(\"This person has a low attendance and hence, did not write exam. We cannot generate a result\")\n",
    "    "
   ]
  },
  {
   "cell_type": "code",
   "execution_count": null,
   "metadata": {},
   "outputs": [],
   "source": []
  }
 ],
 "metadata": {
  "kernelspec": {
   "display_name": "Python 3",
   "language": "python",
   "name": "python3"
  },
  "language_info": {
   "codemirror_mode": {
    "name": "ipython",
    "version": 3
   },
   "file_extension": ".py",
   "mimetype": "text/x-python",
   "name": "python",
   "nbconvert_exporter": "python",
   "pygments_lexer": "ipython3",
   "version": "3.8.5"
  }
 },
 "nbformat": 4,
 "nbformat_minor": 4
}
