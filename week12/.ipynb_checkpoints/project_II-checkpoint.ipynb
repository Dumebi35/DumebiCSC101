{
 "cells": [
  {
   "cell_type": "code",
   "execution_count": 10,
   "metadata": {},
   "outputs": [
    {
     "name": "stdout",
     "output_type": "stream",
     "text": [
      "Please enter your delivery location? pau\n",
      "What is the weight of the package? 10\n"
     ]
    }
   ],
   "source": [
    "#get the delivery location and weight of package\n",
    "location = input(\"Please enter your delivery location? \")\n",
    "weight = int(input(\"What is the weight of the package? \"))\n"
   ]
  },
  {
   "cell_type": "code",
   "execution_count": 12,
   "metadata": {},
   "outputs": [
    {
     "name": "stdout",
     "output_type": "stream",
     "text": [
      "The price is N2000\n"
     ]
    }
   ],
   "source": [
    "#determine the price to be paid\n",
    "if location.upper() == \"PAU\":\n",
    "    if weight >= 10:\n",
    "        print(\"The price is N2000\")\n",
    "    else:\n",
    "        print(\"The price is N1500\")\n",
    "elif location == \"Epe\":\n",
    "    if weight >= 10:\n",
    "        print(\"The price is N5000\")\n",
    "    else:\n",
    "        print(\"The price is N4000\")\n",
    "else: \n",
    "    print(\"We only deliver to PAU and Epe\")"
   ]
  },
  {
   "cell_type": "code",
   "execution_count": null,
   "metadata": {},
   "outputs": [],
   "source": []
  }
 ],
 "metadata": {
  "kernelspec": {
   "display_name": "Python 3",
   "language": "python",
   "name": "python3"
  },
  "language_info": {
   "codemirror_mode": {
    "name": "ipython",
    "version": 3
   },
   "file_extension": ".py",
   "mimetype": "text/x-python",
   "name": "python",
   "nbconvert_exporter": "python",
   "pygments_lexer": "ipython3",
   "version": "3.8.5"
  }
 },
 "nbformat": 4,
 "nbformat_minor": 4
}
