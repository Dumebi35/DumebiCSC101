{
 "cells": [
  {
   "cell_type": "code",
   "execution_count": null,
   "metadata": {},
   "outputs": [],
   "source": []
  },
  {
   "cell_type": "code",
   "execution_count": 17,
   "metadata": {},
   "outputs": [],
   "source": [
    "def deliveryprice(location, weight=10):\n",
    "    #DumDum delivery service\n",
    "    #location and weight determine the price\n",
    "    if location.upper() == \"PAU\":\n",
    "        if weight >= 10:\n",
    "            print(\"The price is N2000\")\n",
    "        else:\n",
    "            print(\"The price is N1500\")\n",
    "    elif location == \"Epe\":\n",
    "        if weight >= 10:\n",
    "            print(\"The price is N5000\")\n",
    "        else:\n",
    "            print(\"The price is N4000\")\n",
    "    else: \n",
    "        print(\"We only deliver to PAU and Epe\")"
   ]
  },
  {
   "cell_type": "code",
   "execution_count": 20,
   "metadata": {},
   "outputs": [
    {
     "name": "stdout",
     "output_type": "stream",
     "text": [
      "What is your delivery location and weight of package? \n",
      "The price is N2000\n"
     ]
    }
   ],
   "source": [
    "deliveryprice(location = \"pau\", weight = 20)"
   ]
  }
 ],
 "metadata": {
  "kernelspec": {
   "display_name": "Python 3",
   "language": "python",
   "name": "python3"
  },
  "language_info": {
   "codemirror_mode": {
    "name": "ipython",
    "version": 3
   },
   "file_extension": ".py",
   "mimetype": "text/x-python",
   "name": "python",
   "nbconvert_exporter": "python",
   "pygments_lexer": "ipython3",
   "version": "3.8.5"
  }
 },
 "nbformat": 4,
 "nbformat_minor": 4
}
