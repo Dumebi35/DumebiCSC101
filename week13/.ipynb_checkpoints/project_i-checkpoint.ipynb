{
 "cells": [
  {
   "cell_type": "code",
   "execution_count": 10,
   "metadata": {},
   "outputs": [],
   "source": [
    "#I guess we're defining functions today\n",
    "\n",
    "def checkname():\n",
    "    employees = ['John','Matthew', 'James', 'Peter', 'Great', 'Esse', 'Goodnews', 'Miracle', 'Gina', 'Itoro', 'Angel', 'Clement', 'Jessica', 'Valerie','Mary']\n",
    "\n",
    "    name = input(\"What is your name? \")\n",
    "\n",
    "    if name in employees:\n",
    "        print('Welcome')\n",
    "    else:\n",
    "        print('Kndly get out')\n",
    "    return"
   ]
  },
  {
   "cell_type": "code",
   "execution_count": 11,
   "metadata": {},
   "outputs": [
    {
     "name": "stdout",
     "output_type": "stream",
     "text": [
      "What is your name? Clement\n",
      "Welcome\n",
      "What is your name? smile\n",
      "Kndly get out\n"
     ]
    }
   ],
   "source": [
    "checkname()\n",
    "checkname()"
   ]
  },
  {
   "cell_type": "code",
   "execution_count": null,
   "metadata": {},
   "outputs": [],
   "source": []
  }
 ],
 "metadata": {
  "kernelspec": {
   "display_name": "Python 3",
   "language": "python",
   "name": "python3"
  },
  "language_info": {
   "codemirror_mode": {
    "name": "ipython",
    "version": 3
   },
   "file_extension": ".py",
   "mimetype": "text/x-python",
   "name": "python",
   "nbconvert_exporter": "python",
   "pygments_lexer": "ipython3",
   "version": "3.8.5"
  }
 },
 "nbformat": 4,
 "nbformat_minor": 4
}
