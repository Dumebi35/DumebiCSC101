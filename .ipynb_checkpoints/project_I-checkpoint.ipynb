{
 "cells": [
  {
   "cell_type": "code",
   "execution_count": 15,
   "metadata": {},
   "outputs": [
    {
     "name": "stdout",
     "output_type": "stream",
     "text": [
      "['John', 'Matthew', 'James', 'Peter', 'Great', 'Esse', 'Goodnews', 'Miracle', 'Gina', 'Itoro', 'Angel', 'Clement', 'Jessica', 'Valerie', 'Mary']\n"
     ]
    }
   ],
   "source": [
    "employees = ['John','Matthew', 'James', 'Peter', 'Great', 'Esse', 'Goodnews', 'Miracle', 'Gina', 'Itoro', 'Angel', 'Clement', 'Jessica', 'Valerie','Mary']\n",
    "print(employees)"
   ]
  },
  {
   "cell_type": "code",
   "execution_count": 16,
   "metadata": {},
   "outputs": [
    {
     "name": "stdout",
     "output_type": "stream",
     "text": [
      "What is your name? John\n"
     ]
    }
   ],
   "source": [
    "name = input(\"What is your name? \")"
   ]
  },
  {
   "cell_type": "code",
   "execution_count": 17,
   "metadata": {},
   "outputs": [
    {
     "name": "stdout",
     "output_type": "stream",
     "text": [
      "Welcome\n"
     ]
    }
   ],
   "source": [
    "if name in employees:\n",
    "    print('Welcome')\n",
    "else:\n",
    "    print('Kndly get out')"
   ]
  },
  {
   "cell_type": "code",
   "execution_count": null,
   "metadata": {},
   "outputs": [],
   "source": []
  }
 ],
 "metadata": {
  "kernelspec": {
   "display_name": "Python 3",
   "language": "python",
   "name": "python3"
  },
  "language_info": {
   "codemirror_mode": {
    "name": "ipython",
    "version": 3
   },
   "file_extension": ".py",
   "mimetype": "text/x-python",
   "name": "python",
   "nbconvert_exporter": "python",
   "pygments_lexer": "ipython3",
   "version": "3.8.5"
  }
 },
 "nbformat": 4,
 "nbformat_minor": 4
}
