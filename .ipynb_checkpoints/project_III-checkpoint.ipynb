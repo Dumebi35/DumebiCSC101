{
 "cells": [
  {
   "cell_type": "markdown",
   "metadata": {},
   "source": [
    "# ADMISSION REQUIREMENTS"
   ]
  },
  {
   "cell_type": "code",
   "execution_count": null,
   "metadata": {},
   "outputs": [],
   "source": [
    "print(\"Welcome and thank you for applying to PAU\")\n",
    "print(\"Before we can admit you, we need some information to see if you meet our requirements for admission.\")\n",
    "print(\"Please answer each question correctly and honestly.\")"
   ]
  },
  {
   "cell_type": "code",
   "execution_count": 51,
   "metadata": {},
   "outputs": [
    {
     "name": "stdout",
     "output_type": "stream",
     "text": [
      "What is your name? Dumebi Valerie Duru\n",
      "Please enter your jamb score? 250\n"
     ]
    }
   ],
   "source": [
    "#get the jamb score\n",
    "name = input(\"What is your name? \")\n",
    "\n",
    "jamb = int(input(\"Please enter your jamb score? \"))\n",
    "\n",
    "pass_interview = True\n"
   ]
  },
  {
   "cell_type": "code",
   "execution_count": 47,
   "metadata": {},
   "outputs": [
    {
     "name": "stdout",
     "output_type": "stream",
     "text": [
      "Enter English score C4\n",
      "Enter math score B3\n",
      "Enter civic score B2\n",
      "Enter Data Processing score A1\n",
      "Enter computer score C4\n"
     ]
    }
   ],
   "source": [
    "#get the scores of each subject\n",
    "eng = input(\"Enter English score \")\n",
    "math = input(\"Enter math score \")\n",
    "civic = input(\"Enter civic score \")\n",
    "dp = input(\"Enter Data Processing score \")\n",
    "comp = input(\"Enter computer score \")\n",
    "\n",
    "accepted = (\"A1\", \"B2\", 'B3', 'C4')"
   ]
  },
  {
   "cell_type": "code",
   "execution_count": null,
   "metadata": {},
   "outputs": [],
   "source": []
  },
  {
   "cell_type": "code",
   "execution_count": 52,
   "metadata": {},
   "outputs": [
    {
     "name": "stdout",
     "output_type": "stream",
     "text": [
      "Dumebi Valerie Duru Congratulations! You have been admitted\n"
     ]
    }
   ],
   "source": [
    "#check if requirements are met\n",
    "if eng in accepted and math in accepted and civic in accepted and dp in accepted and comp in accepted:\n",
    "    if jamb >= 230 and pass_interview == True:\n",
    "        print(name, \"Congratulations! You have been admitted\")\n",
    "else:\n",
    "    print(name, \"Sorry, you did not meet our requirements\")\n"
   ]
  },
  {
   "cell_type": "code",
   "execution_count": null,
   "metadata": {},
   "outputs": [],
   "source": []
  }
 ],
 "metadata": {
  "kernelspec": {
   "display_name": "Python 3",
   "language": "python",
   "name": "python3"
  },
  "language_info": {
   "codemirror_mode": {
    "name": "ipython",
    "version": 3
   },
   "file_extension": ".py",
   "mimetype": "text/x-python",
   "name": "python",
   "nbconvert_exporter": "python",
   "pygments_lexer": "ipython3",
   "version": "3.8.5"
  }
 },
 "nbformat": 4,
 "nbformat_minor": 4
}
