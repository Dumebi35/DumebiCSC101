{
 "cells": [
  {
   "cell_type": "code",
   "execution_count": 29,
   "metadata": {},
   "outputs": [
    {
     "name": "stdout",
     "output_type": "stream",
     "text": [
      "False\n"
     ]
    }
   ],
   "source": [
    "x = y = [2,3]\n",
    "z = [2,3]\n",
    "x.append(5)\n",
    "if x is z:\n",
    "    print(x)\n",
    "else:\n",
    "    print(\"False\")"
   ]
  },
  {
   "cell_type": "code",
   "execution_count": 35,
   "metadata": {},
   "outputs": [
    {
     "name": "stdout",
     "output_type": "stream",
     "text": [
      "['apple', 'banana']\n"
     ]
    }
   ],
   "source": [
    "print('apple banana'.split())"
   ]
  },
  {
   "cell_type": "code",
   "execution_count": 83,
   "metadata": {},
   "outputs": [
    {
     "name": "stdout",
     "output_type": "stream",
     "text": [
      "1\n",
      "dict_keys(['a', 'b'])\n",
      "dict_keys(['a', 'b'])\n"
     ]
    }
   ],
   "source": [
    "thing = [[\"a\",1,],[\"b\",2]]\n",
    "t = dict(thing)\n",
    "print(thing[0][1])\n",
    "for a in t:\n",
    "    print(t.keys())\n",
    "    #print(t)\n",
    "for k in t:\n",
    "    if t[k]== 3:\n",
    "        print(k)"
   ]
  },
  {
   "cell_type": "code",
   "execution_count": 85,
   "metadata": {},
   "outputs": [
    {
     "name": "stdout",
     "output_type": "stream",
     "text": [
      "{}\n"
     ]
    }
   ],
   "source": [
    "h = dict({})\n",
    "print(h)"
   ]
  },
  {
   "cell_type": "code",
   "execution_count": 107,
   "metadata": {},
   "outputs": [
    {
     "name": "stdout",
     "output_type": "stream",
     "text": [
      "Enter a number: 4\n",
      "The numbers being multiplied: [4, 3, 2, 1]\n",
      "The factorial of is  24\n"
     ]
    }
   ],
   "source": [
    "#program that adds the cubes of numbers less than the input\n",
    "num = int(input(\"Enter a number: \"))\n",
    "def cubed(num):\n",
    "    N =1\n",
    "    #num = num - 1\n",
    "    #create a list starting with the cube of the 1st number less than the input\n",
    "    numbers = [num]\n",
    "    while num > 0:\n",
    "        num -=1\n",
    "        #when the last element is not 1, keep adding cubes of numbers less than the input to list\n",
    "        if  numbers[-1] != 1:\n",
    "            numbers.append(num)\n",
    "            \n",
    "        else:\n",
    "            print(\"The numbers being multiplied:\",numbers)\n",
    "    #add each list element to N\n",
    "    for i in numbers:\n",
    "        N = N*i\n",
    "    print (\"The factorial is \", N)\n",
    "cubed(num)"
   ]
  },
  {
   "cell_type": "markdown",
   "metadata": {},
   "source": [
    "#program that adds the cubes of numbers less than the input\n",
    "num = int(input(\"Enter a number: \"))\n",
    "def cubed(num):\n",
    "    N =0\n",
    "    num = num - 1\n",
    "    #create a list starting with the cube of the 1st number less than the input\n",
    "    numbers = [num**3]\n",
    "    while num > 0:\n",
    "        num -=1\n",
    "        #when the last element is not 1, keep adding cubes of numbers less than the input to list\n",
    "        if  numbers[-1] != 1:\n",
    "            numbers.append(num**3)\n",
    "            \n",
    "        else:\n",
    "            print(\"The numbers being added:\",numbers)\n",
    "    #add each list element to N\n",
    "    for i in numbers:\n",
    "        N += i\n",
    "    print (\"The summation is\", N)\n",
    "cubed(num"
   ]
  }
 ],
 "metadata": {
  "kernelspec": {
   "display_name": "Python 3",
   "language": "python",
   "name": "python3"
  },
  "language_info": {
   "codemirror_mode": {
    "name": "ipython",
    "version": 3
   },
   "file_extension": ".py",
   "mimetype": "text/x-python",
   "name": "python",
   "nbconvert_exporter": "python",
   "pygments_lexer": "ipython3",
   "version": "3.8.5"
  }
 },
 "nbformat": 4,
 "nbformat_minor": 4
}
