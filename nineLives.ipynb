{
 "cells": [
  {
   "cell_type": "code",
   "execution_count": 1,
   "metadata": {},
   "outputs": [
    {
     "name": "stdout",
     "output_type": "stream",
     "text": [
      "❤\n"
     ]
    }
   ],
   "source": [
    "heart_symbol = u'\\u2764'\n",
    "print(heart_symbol)"
   ]
  },
  {
   "cell_type": "code",
   "execution_count": 2,
   "metadata": {},
   "outputs": [
    {
     "name": "stdout",
     "output_type": "stream",
     "text": [
      "['?', '?', '?', '?', '?']\n"
     ]
    }
   ],
   "source": [
    "clue = list('?????')\n",
    "print(clue)"
   ]
  },
  {
   "cell_type": "code",
   "execution_count": 3,
   "metadata": {},
   "outputs": [
    {
     "name": "stdout",
     "output_type": "stream",
     "text": [
      "She's my friend\n"
     ]
    }
   ],
   "source": [
    "val = 'She\\'s my friend'\n",
    "print(val)"
   ]
  },
  {
   "cell_type": "code",
   "execution_count": 12,
   "metadata": {},
   "outputs": [
    {
     "name": "stdout",
     "output_type": "stream",
     "text": [
      "She nice not a good person\n"
     ]
    }
   ],
   "source": [
    "val = 'She %s not a good %s'\n",
    "thing = ('is', 'person')\n",
    "print(val %(\"nice\", \"person\"))"
   ]
  },
  {
   "cell_type": "code",
   "execution_count": 32,
   "metadata": {},
   "outputs": [
    {
     "name": "stdout",
     "output_type": "stream",
     "text": [
      "Month number: 4\n",
      "Day number: 3\n",
      "April\n",
      "3rd\n"
     ]
    }
   ],
   "source": [
    "#print today's date\n",
    "months = [\n",
    "    'January',\n",
    "    'February',\n",
    "    'March',\n",
    "    'April',\n",
    "    'May',\n",
    "    'June',\n",
    "    'July',\n",
    "    'August',\n",
    "    'September',\n",
    "    'October',\n",
    "    'November',\n",
    "    'December'\n",
    "]\n",
    "\n",
    "ending = ['st', 'nd', 'rd'] + 17 * ['th '] \\\n",
    "    + ['st', 'nd', 'rd'] + ['st', 'nd', 'rd'] + 7 * ['th '] \\\n",
    "    + ['st']\n",
    "\n",
    "month_num = int(input(\"Month number: \"))\n",
    "day_num = int(input(\"Day number: \"))\n",
    "\n",
    "print(month[month_num-1])\n",
    "print(str(day_num) + ending[day_num-1])\n",
    "#print(ending)"
   ]
  },
  {
   "cell_type": "code",
   "execution_count": 35,
   "metadata": {},
   "outputs": [
    {
     "name": "stdout",
     "output_type": "stream",
     "text": [
      "That\n",
      "mean\n",
      "yo\n"
     ]
    }
   ],
   "source": [
    "import click\n",
    "def clr_scr():\n",
    "    click.clear\n",
    "print('That')\n",
    "print('mean')\n",
    "\n",
    "clr_scr()\n",
    "\n",
    "print('yo')"
   ]
  },
  {
   "cell_type": "code",
   "execution_count": 109,
   "metadata": {},
   "outputs": [
    {
     "name": "stdout",
     "output_type": "stream",
     "text": [
      "(1+0j)\n"
     ]
    }
   ],
   "source": [
    "import cmath\n",
    "\n",
    "print(cmath.sqrt(1))"
   ]
  },
  {
   "cell_type": "code",
   "execution_count": 184,
   "metadata": {},
   "outputs": [
    {
     "name": "stdout",
     "output_type": "stream",
     "text": [
      "['?', '?', '?', '?']\n",
      "What do you think? p\n",
      "You lose a life\n",
      "❤❤\n",
      "['?', '?', '?', '?']\n",
      "What do you think? a\n",
      "['a', '?', '?', '?']\n",
      "What do you think? p\n",
      "You lose a life\n",
      "❤\n",
      "['a', '?', '?', '?']\n",
      "What do you think? c\n",
      "['a', 'c', '?', '?']\n"
     ]
    },
    {
     "ename": "KeyboardInterrupt",
     "evalue": "Interrupted by user",
     "output_type": "error",
     "traceback": [
      "\u001b[1;31m---------------------------------------------------------------------------\u001b[0m",
      "\u001b[1;31mKeyboardInterrupt\u001b[0m                         Traceback (most recent call last)",
      "\u001b[1;32m<ipython-input-184-a52dbaed3649>\u001b[0m in \u001b[0;36m<module>\u001b[1;34m\u001b[0m\n\u001b[0;32m     18\u001b[0m \u001b[1;32mwhile\u001b[0m \u001b[0mlives\u001b[0m \u001b[1;33m>\u001b[0m \u001b[1;36m0\u001b[0m\u001b[1;33m:\u001b[0m\u001b[1;33m\u001b[0m\u001b[1;33m\u001b[0m\u001b[0m\n\u001b[0;32m     19\u001b[0m     \u001b[0mprint\u001b[0m\u001b[1;33m(\u001b[0m\u001b[0mclue\u001b[0m\u001b[1;33m)\u001b[0m\u001b[1;33m\u001b[0m\u001b[1;33m\u001b[0m\u001b[0m\n\u001b[1;32m---> 20\u001b[1;33m     \u001b[0mguess\u001b[0m \u001b[1;33m=\u001b[0m \u001b[0minput\u001b[0m\u001b[1;33m(\u001b[0m\u001b[1;34m\"What do you think? \"\u001b[0m\u001b[1;33m)\u001b[0m\u001b[1;33m\u001b[0m\u001b[1;33m\u001b[0m\u001b[0m\n\u001b[0m\u001b[0;32m     21\u001b[0m     \u001b[1;32mif\u001b[0m \u001b[0mguess\u001b[0m \u001b[1;33m==\u001b[0m \u001b[0msecret_word\u001b[0m\u001b[1;33m:\u001b[0m\u001b[1;33m\u001b[0m\u001b[1;33m\u001b[0m\u001b[0m\n\u001b[0;32m     22\u001b[0m         \u001b[0mguessed_word_correctly\u001b[0m \u001b[1;33m=\u001b[0m \u001b[1;32mTrue\u001b[0m\u001b[1;33m\u001b[0m\u001b[1;33m\u001b[0m\u001b[0m\n",
      "\u001b[1;32m~\\anaconda3\\lib\\site-packages\\ipykernel\\kernelbase.py\u001b[0m in \u001b[0;36mraw_input\u001b[1;34m(self, prompt)\u001b[0m\n\u001b[0;32m    858\u001b[0m                 \u001b[1;34m\"raw_input was called, but this frontend does not support input requests.\"\u001b[0m\u001b[1;33m\u001b[0m\u001b[1;33m\u001b[0m\u001b[0m\n\u001b[0;32m    859\u001b[0m             )\n\u001b[1;32m--> 860\u001b[1;33m         return self._input_request(str(prompt),\n\u001b[0m\u001b[0;32m    861\u001b[0m             \u001b[0mself\u001b[0m\u001b[1;33m.\u001b[0m\u001b[0m_parent_ident\u001b[0m\u001b[1;33m,\u001b[0m\u001b[1;33m\u001b[0m\u001b[1;33m\u001b[0m\u001b[0m\n\u001b[0;32m    862\u001b[0m             \u001b[0mself\u001b[0m\u001b[1;33m.\u001b[0m\u001b[0m_parent_header\u001b[0m\u001b[1;33m,\u001b[0m\u001b[1;33m\u001b[0m\u001b[1;33m\u001b[0m\u001b[0m\n",
      "\u001b[1;32m~\\anaconda3\\lib\\site-packages\\ipykernel\\kernelbase.py\u001b[0m in \u001b[0;36m_input_request\u001b[1;34m(self, prompt, ident, parent, password)\u001b[0m\n\u001b[0;32m    902\u001b[0m             \u001b[1;32mexcept\u001b[0m \u001b[0mKeyboardInterrupt\u001b[0m\u001b[1;33m:\u001b[0m\u001b[1;33m\u001b[0m\u001b[1;33m\u001b[0m\u001b[0m\n\u001b[0;32m    903\u001b[0m                 \u001b[1;31m# re-raise KeyboardInterrupt, to truncate traceback\u001b[0m\u001b[1;33m\u001b[0m\u001b[1;33m\u001b[0m\u001b[1;33m\u001b[0m\u001b[0m\n\u001b[1;32m--> 904\u001b[1;33m                 \u001b[1;32mraise\u001b[0m \u001b[0mKeyboardInterrupt\u001b[0m\u001b[1;33m(\u001b[0m\u001b[1;34m\"Interrupted by user\"\u001b[0m\u001b[1;33m)\u001b[0m \u001b[1;32mfrom\u001b[0m \u001b[1;32mNone\u001b[0m\u001b[1;33m\u001b[0m\u001b[1;33m\u001b[0m\u001b[0m\n\u001b[0m\u001b[0;32m    905\u001b[0m             \u001b[1;32mexcept\u001b[0m \u001b[0mException\u001b[0m \u001b[1;32mas\u001b[0m \u001b[0me\u001b[0m\u001b[1;33m:\u001b[0m\u001b[1;33m\u001b[0m\u001b[1;33m\u001b[0m\u001b[0m\n\u001b[0;32m    906\u001b[0m                 \u001b[0mself\u001b[0m\u001b[1;33m.\u001b[0m\u001b[0mlog\u001b[0m\u001b[1;33m.\u001b[0m\u001b[0mwarning\u001b[0m\u001b[1;33m(\u001b[0m\u001b[1;34m\"Invalid Message:\"\u001b[0m\u001b[1;33m,\u001b[0m \u001b[0mexc_info\u001b[0m\u001b[1;33m=\u001b[0m\u001b[1;32mTrue\u001b[0m\u001b[1;33m)\u001b[0m\u001b[1;33m\u001b[0m\u001b[1;33m\u001b[0m\u001b[0m\n",
      "\u001b[1;31mKeyboardInterrupt\u001b[0m: Interrupted by user"
     ]
    }
   ],
   "source": [
    "#Nine Lives\n",
    "import random\n",
    "lives = 3\n",
    "words = ['pain', 'pill', 'star', 'ache']\n",
    "secret_word = random.choice(words)\n",
    "clue = list('????')\n",
    "\n",
    "\n",
    "heart_symbol = u'\\u2764'\n",
    "guessed_word_correctly = False\n",
    "#guess = input(\"What do you think? \")\n",
    "\n",
    "def update_clue(guessed_letter, secret_word, clue):\n",
    "    index = 0\n",
    "    while index < len(secret_word):\n",
    "        if guessed_letter == secret_word[index]:\n",
    "            clue[index] = guessed_letter\n",
    "        index = index + 1\n",
    "while lives > 0:\n",
    "    print(clue)\n",
    "    guess = input(\"What do you think? \")\n",
    "    if guess == secret_word:\n",
    "        guessed_word_correctly = True\n",
    "        break\n",
    "\n",
    "    elif guess in secret_word:\n",
    "        update_clue(guess, secret_word, clue)\n",
    "    else:\n",
    "        print(\"You lose a life\")\n",
    "        print(heart_symbol * (lives-1))\n",
    "        lives -=1\n",
    "        \n",
    "if guessed_word_correctly:\n",
    "    print(\"You got it\")\n",
    "else:\n",
    "    print(\"Better luck next time\")\n"
   ]
  },
  {
   "cell_type": "code",
   "execution_count": 108,
   "metadata": {},
   "outputs": [
    {
     "name": "stdout",
     "output_type": "stream",
     "text": [
      "2\n",
      "8\n",
      "0.67\n"
     ]
    }
   ],
   "source": [
    "import math\n",
    "print(math.floor(2.8))\n",
    "print(0o10)\n",
    "print(round(2/3,2))"
   ]
  },
  {
   "cell_type": "code",
   "execution_count": 111,
   "metadata": {},
   "outputs": [
    {
     "data": {
      "image/jpeg": "[encoded data removed]",
      "text/plain": [
       "<IPython.core.display.Image object>"
      ]
     },
     "execution_count": 111,
     "metadata": {},
     "output_type": "execute_result"
    }
   ],
   "source": [
    "import IPython.display\n",
    "\n",
    "IPython.display.Image(filename = 'beat.jpg')\n"
   ]
  },
  {
   "cell_type": "code",
   "execution_count": null,
   "metadata": {},
   "outputs": [
    {
     "name": "stdout",
     "output_type": "stream",
     "text": [
      "['p', 'i', 'l', 'l']\n",
      "What letter do you think? e\n",
      "????\n",
      "Pele\n",
      "❤❤\n",
      "What letter do you think? p\n",
      "????\n",
      "you guessed the letter p correct\n",
      "What letter do you think? i\n",
      "????\n",
      "you guessed the letter i correct\n",
      "What letter do you think? l\n",
      "????\n",
      "you guessed the letter l correct\n",
      "What letter do you think? l\n",
      "????\n",
      "you guessed the letter l correct\n",
      "What letter do you think? e\n",
      "????\n",
      "Pele\n",
      "❤\n"
     ]
    }
   ],
   "source": [
    "#Nine Lives\n",
    "import random\n",
    "lives = 3\n",
    "words = ['pain', 'pill', 'star', 'ache']\n",
    "secret_word = random.choice(words)\n",
    "#clue = '????'\n",
    "\n",
    "heart_symbol = u'\\u2764'\n",
    "guessed_word_correctly = False\n",
    "\n",
    "print(list(secret_word))\n",
    "\n",
    "while lives > 0:\n",
    "    guess = input(\"What letter do you think? \")\n",
    "    clue = '????'\n",
    "    print(clue)\n",
    "    if guess in list(secret_word):\n",
    "        print(\"you guessed the letter\",guess,\"correct\")\n",
    "        clue = clue.replace('?',guess)\n",
    "        #print(clue)\n",
    "        #secret_word = secret_word.del(guess)\n",
    "    else:\n",
    "        print('Pele')\n",
    "        print((heart_symbol)*(lives-1))\n",
    "        lives -=1\n"
   ]
  },
  {
   "cell_type": "code",
   "execution_count": null,
   "metadata": {},
   "outputs": [],
   "source": [
    "#Nine Lives\n",
    "import random\n",
    "lives = 3\n",
    "words = ['pain', 'pill', 'star', 'ache']\n",
    "secret_word = random.choice(words)\n",
    "clue = list('????')\n",
    "\n",
    "heart_symbol = u'\\u2764'\n",
    "guessed_word_correctly = False\n",
    "\n",
    "def update_clue(guessed_letter, secret_word, clue):\n",
    "    y = 0\n",
    "    while y < len(secret_word):\n",
    "        if guessed_letter in secret_word:\n",
    "            position = secret_word.index(guessed_letter)\n",
    "            clue[position] = guessed_letter\n",
    "            y+=1\n",
    "while lives > 0:\n",
    "    print(clue)\n",
    "    guess = input(\"What do you think? \")\n",
    "    if guess == secret_word:\n",
    "        guessed_word_correctly = True\n",
    "        break\n",
    "    elif guess in secret_word:\n",
    "        update_clue(guess, secret_word, clue)\n",
    "    else:\n",
    "        print(\"You lose a life\")\n",
    "        print(heart_symbol * (lives-1))\n",
    "        lives -=1\n",
    "        \n",
    "if guessed_word_correctly:\n",
    "    print(\"You got it\")\n",
    "else:\n",
    "    print(\"Better luck next time\")\n"
   ]
  },
  {
   "cell_type": "code",
   "execution_count": 186,
   "metadata": {},
   "outputs": [
    {
     "name": "stdout",
     "output_type": "stream",
     "text": [
      "2\n"
     ]
    }
   ],
   "source": [
    "x = 'play'\n",
    "print(x.index('a'))"
   ]
  },
  {
   "cell_type": "code",
   "execution_count": null,
   "metadata": {},
   "outputs": [],
   "source": []
  }
 ],
 "metadata": {
  "kernelspec": {
   "display_name": "Python 3",
   "language": "python",
   "name": "python3"
  }
 },
 "nbformat": 4,
 "nbformat_minor": 4
}
