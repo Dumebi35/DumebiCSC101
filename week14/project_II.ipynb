{
 "cells": [
  {
   "cell_type": "markdown",
   "metadata": {},
   "source": [
    "# Attendance"
   ]
  },
  {
   "cell_type": "code",
   "execution_count": 1,
   "metadata": {},
   "outputs": [],
   "source": [
    "#This program marks your attendance"
   ]
  },
  {
   "cell_type": "code",
   "execution_count": 4,
   "metadata": {},
   "outputs": [
    {
     "name": "stdout",
     "output_type": "stream",
     "text": [
      "Student's name Dumebi\n",
      "This student attended class\n"
     ]
    }
   ],
   "source": [
    "def attendance():\n",
    "    present_list = (\"Somto\", \"Dumebi\", \"Bisola\",\"Clement\", \"Miracle\",\"Gina\", \"Dumebi\",\"Tabitha\", \"Testimony\",\"Ada\")\n",
    "    #get the student's name\n",
    "    name = input (\"Enter Student's name \")\n",
    "    if name in present_list:\n",
    "        print(\"This student attended class\")\n",
    "    else:\n",
    "        print(\"This student was absent\")\n",
    "    return\n",
    "attendance() \n"
   ]
  },
  {
   "cell_type": "code",
   "execution_count": null,
   "metadata": {},
   "outputs": [],
   "source": []
  }
 ],
 "metadata": {
  "kernelspec": {
   "display_name": "Python 3",
   "language": "python",
   "name": "python3"
  },
  "language_info": {
   "codemirror_mode": {
    "name": "ipython",
    "version": 3
   },
   "file_extension": ".py",
   "mimetype": "text/x-python",
   "name": "python",
   "nbconvert_exporter": "python",
   "pygments_lexer": "ipython3",
   "version": "3.8.5"
  }
 },
 "nbformat": 4,
 "nbformat_minor": 4
}
