{
 "cells": [
  {
   "cell_type": "markdown",
   "metadata": {},
   "source": [
    "# Cardano Formula"
   ]
  },
  {
   "cell_type": "code",
   "execution_count": 1,
   "metadata": {},
   "outputs": [
    {
     "name": "stdout",
     "output_type": "stream",
     "text": [
      "I'm going to solve a cubic equation for you\n"
     ]
    }
   ],
   "source": [
    "print(\"I'm going to solve a cubic equation for you\")"
   ]
  },
  {
   "cell_type": "code",
   "execution_count": 24,
   "metadata": {},
   "outputs": [
    {
     "name": "stdout",
     "output_type": "stream",
     "text": [
      "Ensure the coefficient of x^3 is 1\n",
      "The coefficient of x^2 1\n",
      "The coefficient of x 2\n",
      "The constant term 3\n",
      "There is 1 real root and 2 imaginary roots\n"
     ]
    },
    {
     "data": {
      "text/plain": [
       "-175"
      ]
     },
     "execution_count": 24,
     "metadata": {},
     "output_type": "execute_result"
    }
   ],
   "source": [
    "def discriminant():\n",
    "    print(\"Ensure the coefficient of x^3 is 1\")\n",
    "    a = int(input(\"The coefficient of x^2 \"))\n",
    "    b = int(input(\"The coefficient of x \"))\n",
    "    c = int(input(\"The constant term \"))\n",
    "    discriminant = ((a**2)*(b**2)) + (18*a*b*c) - (4*(b**3)) - (4*(a**2)*c) - (27*(c**2))\n",
    "    if discriminant > 0:\n",
    "        print(\"The roots are real and distinct\")\n",
    "    elif discriminant == 0:\n",
    "        print(\"The roots are real and equal\")\n",
    "    else:\n",
    "        print(\"There is 1 real root and 2 imaginary roots\")\n",
    "    return discriminant;\n",
    "discriminant()\n"
   ]
  },
  {
   "cell_type": "code",
   "execution_count": 44,
   "metadata": {},
   "outputs": [
    {
     "ename": "NameError",
     "evalue": "name 'type_check' is not defined",
     "output_type": "error",
     "traceback": [
      "\u001b[1;31m---------------------------------------------------------------------------\u001b[0m",
      "\u001b[1;31mNameError\u001b[0m                                 Traceback (most recent call last)",
      "\u001b[1;32m<ipython-input-44-a57541f38ed5>\u001b[0m in \u001b[0;36m<module>\u001b[1;34m\u001b[0m\n\u001b[0;32m      1\u001b[0m \u001b[1;32mimport\u001b[0m \u001b[0mmath\u001b[0m\u001b[1;33m\u001b[0m\u001b[1;33m\u001b[0m\u001b[0m\n\u001b[1;32m----> 2\u001b[1;33m \u001b[1;32mimport\u001b[0m \u001b[0mnumpy\u001b[0m \u001b[1;32mas\u001b[0m \u001b[0mnp\u001b[0m\u001b[1;33m\u001b[0m\u001b[1;33m\u001b[0m\u001b[0m\n\u001b[0m\u001b[0;32m      3\u001b[0m \u001b[1;32mdef\u001b[0m \u001b[0mCardano\u001b[0m\u001b[1;33m(\u001b[0m\u001b[1;33m)\u001b[0m\u001b[1;33m:\u001b[0m\u001b[1;33m\u001b[0m\u001b[1;33m\u001b[0m\u001b[0m\n\u001b[0;32m      4\u001b[0m     \u001b[0mprint\u001b[0m\u001b[1;33m(\u001b[0m\u001b[1;34m\"Ensure the coefficient of x^3 is 1\"\u001b[0m\u001b[1;33m)\u001b[0m\u001b[1;33m\u001b[0m\u001b[1;33m\u001b[0m\u001b[0m\n\u001b[0;32m      5\u001b[0m     \u001b[0ma\u001b[0m \u001b[1;33m=\u001b[0m \u001b[0mfloat\u001b[0m\u001b[1;33m(\u001b[0m\u001b[0minput\u001b[0m\u001b[1;33m(\u001b[0m\u001b[1;34m\"The coefficient of x^3 \"\u001b[0m\u001b[1;33m)\u001b[0m\u001b[1;33m)\u001b[0m\u001b[1;33m\u001b[0m\u001b[1;33m\u001b[0m\u001b[0m\n",
      "\u001b[1;32m~\\anaconda3\\lib\\site-packages\\numpy\\__init__.py\u001b[0m in \u001b[0;36m<module>\u001b[1;34m\u001b[0m\n\u001b[0;32m    141\u001b[0m     \u001b[1;32mfrom\u001b[0m \u001b[1;33m.\u001b[0m\u001b[0mcore\u001b[0m \u001b[1;32mimport\u001b[0m \u001b[1;33m*\u001b[0m\u001b[1;33m\u001b[0m\u001b[1;33m\u001b[0m\u001b[0m\n\u001b[0;32m    142\u001b[0m     \u001b[1;32mfrom\u001b[0m \u001b[1;33m.\u001b[0m \u001b[1;32mimport\u001b[0m \u001b[0mcompat\u001b[0m\u001b[1;33m\u001b[0m\u001b[1;33m\u001b[0m\u001b[0m\n\u001b[1;32m--> 143\u001b[1;33m     \u001b[1;32mfrom\u001b[0m \u001b[1;33m.\u001b[0m \u001b[1;32mimport\u001b[0m \u001b[0mlib\u001b[0m\u001b[1;33m\u001b[0m\u001b[1;33m\u001b[0m\u001b[0m\n\u001b[0m\u001b[0;32m    144\u001b[0m     \u001b[1;31m# NOTE: to be revisited following future namespace cleanup.\u001b[0m\u001b[1;33m\u001b[0m\u001b[1;33m\u001b[0m\u001b[1;33m\u001b[0m\u001b[0m\n\u001b[0;32m    145\u001b[0m     \u001b[1;31m# See gh-14454 and gh-15672 for discussion.\u001b[0m\u001b[1;33m\u001b[0m\u001b[1;33m\u001b[0m\u001b[1;33m\u001b[0m\u001b[0m\n",
      "\u001b[1;32m~\\anaconda3\\lib\\site-packages\\numpy\\lib\\__init__.py\u001b[0m in \u001b[0;36m<module>\u001b[1;34m\u001b[0m\n\u001b[0;32m     43\u001b[0m \u001b[1;33m\u001b[0m\u001b[0m\n\u001b[0;32m     44\u001b[0m \u001b[0m__all__\u001b[0m \u001b[1;33m=\u001b[0m \u001b[1;33m[\u001b[0m\u001b[1;34m'emath'\u001b[0m\u001b[1;33m,\u001b[0m \u001b[1;34m'math'\u001b[0m\u001b[1;33m,\u001b[0m \u001b[1;34m'tracemalloc_domain'\u001b[0m\u001b[1;33m,\u001b[0m \u001b[1;34m'Arrayterator'\u001b[0m\u001b[1;33m]\u001b[0m\u001b[1;33m\u001b[0m\u001b[1;33m\u001b[0m\u001b[0m\n\u001b[1;32m---> 45\u001b[1;33m \u001b[0m__all__\u001b[0m \u001b[1;33m+=\u001b[0m \u001b[0mtype_check\u001b[0m\u001b[1;33m.\u001b[0m\u001b[0m__all__\u001b[0m\u001b[1;33m\u001b[0m\u001b[1;33m\u001b[0m\u001b[0m\n\u001b[0m\u001b[0;32m     46\u001b[0m \u001b[0m__all__\u001b[0m \u001b[1;33m+=\u001b[0m \u001b[0mindex_tricks\u001b[0m\u001b[1;33m.\u001b[0m\u001b[0m__all__\u001b[0m\u001b[1;33m\u001b[0m\u001b[1;33m\u001b[0m\u001b[0m\n\u001b[0;32m     47\u001b[0m \u001b[0m__all__\u001b[0m \u001b[1;33m+=\u001b[0m \u001b[0mfunction_base\u001b[0m\u001b[1;33m.\u001b[0m\u001b[0m__all__\u001b[0m\u001b[1;33m\u001b[0m\u001b[1;33m\u001b[0m\u001b[0m\n",
      "\u001b[1;31mNameError\u001b[0m: name 'type_check' is not defined"
     ]
    }
   ],
   "source": [
    "import math\n",
    "\n",
    "def Cardano():\n",
    "    print(\"Ensure the coefficient of x^3 is 1\")\n",
    "    a = float(input(\"The coefficient of x^3 \"))\n",
    "    b = float(input(\"The coefficient of x^2 \"))\n",
    "    c = float(input(\"The coefficient of x \"))\n",
    "    d = float(input(\"The constant term \"))\n",
    "    if a !=1:\n",
    "        print(\"Please let a be equal to a by dividing the equation by a\")\n",
    "    else:\n",
    "        while a ==1:\n",
    "            \n",
    "            discriminant = ((b**2)*(c**2)) + (18*b*c*d) - (4*(c**3)) - (4*(b**2)*d) - (27*(d**2))\n",
    "            \n",
    "            Q = (3*c - b)/9\n",
    "            R = ((9*b*c)-(27*d) - (2 * pow(b,3)))/54\n",
    "            S = ((R + math.sqrt((Q**3)+ (R**2))))**(1/3)\n",
    "            T = ((R - math.sqrt((Q**3)+ (R**2))))**(1/3)\n",
    "                \n",
    "            if discriminant < 0:\n",
    "                print (Q,R,S,T)\n",
    "                \n",
    "            else:\n",
    "                print(\"Can't use cardano\")\n",
    "    return\n",
    "Cardano()"
   ]
  },
  {
   "cell_type": "code",
   "execution_count": 22,
   "metadata": {},
   "outputs": [
    {
     "name": "stdout",
     "output_type": "stream",
     "text": [
      "Equation 1:\n",
      "Eq(x + y, 1)\n",
      "Equation 2\n",
      "Eq(x - y, 1)\n",
      "Values of 2 unknown variable are as follows:\n",
      "{x: 1, y: 0}\n"
     ]
    }
   ],
   "source": [
    "# importing library sympy\n",
    "from sympy import symbols, Eq, solve\n",
    "  \n",
    "# defining symbols used in equations\n",
    "# or unknown variables\n",
    "x, y = symbols('x,y')\n",
    "  \n",
    "# defining equations\n",
    "eq1 = Eq((x+y), 1)\n",
    "print(\"Equation 1:\")\n",
    "print(eq1)\n",
    "eq2 = Eq((x-y), 1)\n",
    "print(\"Equation 2\")\n",
    "print(eq2)\n",
    "  \n",
    "# solving the equation\n",
    "print(\"Values of 2 unknown variable are as follows:\")\n",
    "  \n",
    "print(solve((eq1, eq2), (x, y)))"
   ]
  },
  {
   "cell_type": "code",
   "execution_count": 73,
   "metadata": {},
   "outputs": [
    {
     "name": "stdout",
     "output_type": "stream",
     "text": [
      "Ensure the coefficient of x^3 is 1\n",
      "The coefficient of x^3 1\n",
      "The coefficient of x^2 3\n",
      "The coefficient of x 0\n",
      "The constant term 0.5\n",
      "-0.7937005259840998\n",
      "-1.0 -1.25\n"
     ]
    }
   ],
   "source": [
    "import math\n",
    "\n",
    "def cuberoot(x):\n",
    "    if x < 0:\n",
    "        x = abs(x)\n",
    "        cube_root = x**(1/3)*(-1)\n",
    "    else:\n",
    "        cube_root = x**(1/3)\n",
    "    return cube_root\n",
    "\n",
    "\n",
    "\n",
    "def Cardano():\n",
    "    print(\"Ensure the coefficient of x^3 is 1\")\n",
    "    a = float(input(\"The coefficient of x^3 \"))\n",
    "    b = float(input(\"The coefficient of x^2 \"))\n",
    "    c = float(input(\"The coefficient of x \"))\n",
    "    d = float(input(\"The constant term \"))\n",
    "    if a !=1:\n",
    "        print(\"Please let a be equal to a by dividing the equation by a\")\n",
    "    else:\n",
    "        if a ==1:\n",
    "            \n",
    "            discriminant = ((b**2)*(c**2)) + (18*b*c*d) - (4*(c**3)) - (4*(b**2)*d) - (27*(d**2))\n",
    "            \n",
    "            Q = (3*c - pow(b,2))/9\n",
    "            R = ((9*b*c)-(27*d) - (2 * pow(b,3)))/54\n",
    "            u = (Q**3)+ (R**2)\n",
    "            u = math.sqrt(u)\n",
    "            x = R+u\n",
    "            y = R-u\n",
    "            if R < 0:\n",
    "                S = cuberoot(x)\n",
    "                T = cuberoot(y)\n",
    "                print (S)\n",
    "            else:\n",
    "                print('Tired')\n",
    "                #S = (R + math.sqrt(u))**(1/3)\n",
    "            #u = (Q**3)+ (R**2)\n",
    "            #S = (abs(R) + math.sqrt(u))**(1/3)\n",
    "            #T = (R - u)**(0.33)\n",
    "                \n",
    "            if discriminant < 0:\n",
    "                print (Q,R)\n",
    "              \n",
    "            else:\n",
    "                print(\"Can't use cardano\")\n",
    "    return\n",
    "Cardano()"
   ]
  },
  {
   "cell_type": "code",
   "execution_count": null,
   "metadata": {},
   "outputs": [],
   "source": []
  }
 ],
 "metadata": {
  "kernelspec": {
   "display_name": "Python 3",
   "language": "python",
   "name": "python3"
  },
  "language_info": {
   "codemirror_mode": {
    "name": "ipython",
    "version": 3
   },
   "file_extension": ".py",
   "mimetype": "text/x-python",
   "name": "python",
   "nbconvert_exporter": "python",
   "pygments_lexer": "ipython3",
   "version": "3.8.5"
  }
 },
 "nbformat": 4,
 "nbformat_minor": 4
}
