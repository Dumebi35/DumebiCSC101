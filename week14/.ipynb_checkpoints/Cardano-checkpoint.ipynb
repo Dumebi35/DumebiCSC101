{
 "cells": [
  {
   "cell_type": "markdown",
   "metadata": {},
   "source": [
    "# Cardano Formula"
   ]
  },
  {
   "cell_type": "code",
   "execution_count": 1,
   "metadata": {},
   "outputs": [
    {
     "name": "stdout",
     "output_type": "stream",
     "text": [
      "I'm going to solve a cubic equation for you\n"
     ]
    }
   ],
   "source": [
    "print(\"I'm going to solve a cubic equation for you\")"
   ]
  },
  {
   "cell_type": "code",
   "execution_count": 4,
   "metadata": {},
   "outputs": [
    {
     "name": "stdout",
     "output_type": "stream",
     "text": [
      "Ensure the coefficient of x^3 is 1\n",
      "The coefficient of x^2 3\n",
      "The coefficient of x 3\n",
      "The constant term 1\n",
      "The roots are real and distinct\n"
     ]
    },
    {
     "data": {
      "text/plain": [
       "72"
      ]
     },
     "execution_count": 4,
     "metadata": {},
     "output_type": "execute_result"
    }
   ],
   "source": [
    "def discriminant():\n",
    "    print(\"Ensure the coefficient of x^3 is 1\")\n",
    "    a = int(input(\"The coefficient of x^2 \"))\n",
    "    b = int(input(\"The coefficient of x \"))\n",
    "    c = int(input(\"The constant term \"))\n",
    "    discriminant = ((a**2)*(b**2)) + (18*a*b*c) - (4*(b**3)) - (4*(a**2)*c) - (27*(c**2))\n",
    "    if discriminant > 0:\n",
    "        print(\"The roots are real and distinct\")\n",
    "    elif discriminant == 0:\n",
    "        print(\"The roots are real and equal\")\n",
    "    else:\n",
    "        print(\"There is 1 real root and 2 imaginary roots\")\n",
    "    return discriminant;\n",
    "discriminant()"
   ]
  },
  {
   "cell_type": "code",
   "execution_count": null,
   "metadata": {},
   "outputs": [],
   "source": [
    "def Cardano():\n",
    "    if discriminant == 0:\n",
    "        x = y - (b/(3*a))"
   ]
  }
 ],
 "metadata": {
  "kernelspec": {
   "display_name": "Python 3",
   "language": "python",
   "name": "python3"
  },
  "language_info": {
   "codemirror_mode": {
    "name": "ipython",
    "version": 3
   },
   "file_extension": ".py",
   "mimetype": "text/x-python",
   "name": "python",
   "nbconvert_exporter": "python",
   "pygments_lexer": "ipython3",
   "version": "3.8.5"
  }
 },
 "nbformat": 4,
 "nbformat_minor": 4
}
