{
 "cells": [
  {
   "cell_type": "markdown",
   "metadata": {},
   "source": [
    "# Roots of quadratic equation"
   ]
  },
  {
   "cell_type": "code",
   "execution_count": 1,
   "metadata": {},
   "outputs": [],
   "source": [
    "#This programme finds the roots of a quadratic equation"
   ]
  },
  {
   "cell_type": "code",
   "execution_count": 3,
   "metadata": {},
   "outputs": [
    {
     "name": "stdout",
     "output_type": "stream",
     "text": [
      "Welcome. I'm going to help you find the roots of a quadratic equation\n"
     ]
    }
   ],
   "source": [
    "print (\"Welcome. I'm going to help you find the roots of a quadratic equation\")"
   ]
  },
  {
   "cell_type": "code",
   "execution_count": null,
   "metadata": {},
   "outputs": [],
   "source": [
    "import math"
   ]
  },
  {
   "cell_type": "code",
   "execution_count": 28,
   "metadata": {},
   "outputs": [
    {
     "name": "stdout",
     "output_type": "stream",
     "text": [
      "What is the coefficient of x^2? 1\n",
      "What is the coefficient of x? -5\n",
      "What is the constant term? 6\n",
      "3.0\n",
      "2.0\n"
     ]
    }
   ],
   "source": [
    "import math\n",
    "def roots():\n",
    "    a = int(input(\"What is the coefficient of x^2? \"))\n",
    "    b = int(input(\"What is the coefficient of x? \" ))\n",
    "    c = int(input(\"What is the constant term? \"))\n",
    "    \n",
    "    x1 =(-b + (math.sqrt((b**2)- (4*a*c))))/(2*a)\n",
    "    x2 =(-b - (math.sqrt((b**2) - (4*a*c))))/(2*a)\n",
    "    \n",
    "    print(\"The first root is \", x1)\n",
    "    print(\"The second root is \", x2)\n",
    "    return\n",
    "roots()\n",
    "  "
   ]
  },
  {
   "cell_type": "code",
   "execution_count": null,
   "metadata": {},
   "outputs": [],
   "source": []
  }
 ],
 "metadata": {
  "kernelspec": {
   "display_name": "Python 3",
   "language": "python",
   "name": "python3"
  },
  "language_info": {
   "codemirror_mode": {
    "name": "ipython",
    "version": 3
   },
   "file_extension": ".py",
   "mimetype": "text/x-python",
   "name": "python",
   "nbconvert_exporter": "python",
   "pygments_lexer": "ipython3",
   "version": "3.8.5"
  }
 },
 "nbformat": 4,
 "nbformat_minor": 4
}
