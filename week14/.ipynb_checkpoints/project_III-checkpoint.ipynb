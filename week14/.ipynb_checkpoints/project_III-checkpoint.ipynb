{
 "cells": [
  {
   "cell_type": "markdown",
   "metadata": {},
   "source": [
    "# CA Scores"
   ]
  },
  {
   "cell_type": "code",
   "execution_count": 1,
   "metadata": {},
   "outputs": [],
   "source": [
    "#This programme returns the student's scores"
   ]
  },
  {
   "cell_type": "code",
   "execution_count": 23,
   "metadata": {},
   "outputs": [
    {
     "name": "stdout",
     "output_type": "stream",
     "text": [
      "Glass Your score is not ready\n"
     ]
    }
   ],
   "source": [
    "def Ca(name):\n",
    "    student_scores = {\"Dumebi\" : 29,\"Somto\": 25,\"Miracle\": 28.5}\n",
    "    #name = input(\"Your name please \")\n",
    "\n",
    "    if name in student_scores:\n",
    "        print(name, \"Your CA score is\", student_scores[name])\n",
    "    else:\n",
    "        print(name, \"Your score is not ready\")\n",
    "Ca(name = \"Glass\")"
   ]
  },
  {
   "cell_type": "code",
   "execution_count": null,
   "metadata": {},
   "outputs": [],
   "source": []
  }
 ],
 "metadata": {
  "kernelspec": {
   "display_name": "Python 3",
   "language": "python",
   "name": "python3"
  },
  "language_info": {
   "codemirror_mode": {
    "name": "ipython",
    "version": 3
   },
   "file_extension": ".py",
   "mimetype": "text/x-python",
   "name": "python",
   "nbconvert_exporter": "python",
   "pygments_lexer": "ipython3",
   "version": "3.8.5"
  }
 },
 "nbformat": 4,
 "nbformat_minor": 4
}
