{
 "cells": [
  {
   "cell_type": "markdown",
   "metadata": {},
   "source": [
    "# Business password"
   ]
  },
  {
   "cell_type": "code",
   "execution_count": 2,
   "metadata": {},
   "outputs": [
    {
     "name": "stdout",
     "output_type": "stream",
     "text": [
      "What is the password js\n",
      "What is the password w\n",
      "What is the password d\n",
      "What is the password s\n",
      "What is the password d\n",
      "What is the password s\n",
      "What is the password d\n",
      "What is the password secret\n",
      "Welcome\n"
     ]
    }
   ],
   "source": [
    "def password():\n",
    "    #get an attempt from the user\n",
    "    attempt = input(\"What is the password \")\n",
    "    password1 = \"secret\"\n",
    "    if attempt == password1:\n",
    "        print(\"Welcome\")\n",
    "    #if the attempt is wrong, ask for password forever till he gets it right\n",
    "    else:\n",
    "        password()\n",
    "    return\n",
    "password()"
   ]
  },
  {
   "cell_type": "code",
   "execution_count": null,
   "metadata": {},
   "outputs": [],
   "source": []
  }
 ],
 "metadata": {
  "kernelspec": {
   "display_name": "Python 3",
   "language": "python",
   "name": "python3"
  },
  "language_info": {
   "codemirror_mode": {
    "name": "ipython",
    "version": 3
   },
   "file_extension": ".py",
   "mimetype": "text/x-python",
   "name": "python",
   "nbconvert_exporter": "python",
   "pygments_lexer": "ipython3",
   "version": "3.8.5"
  }
 },
 "nbformat": 4,
 "nbformat_minor": 4
}
