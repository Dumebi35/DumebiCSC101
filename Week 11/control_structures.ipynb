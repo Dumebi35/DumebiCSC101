{
 "cells": [
  {
   "cell_type": "markdown",
   "metadata": {},
   "source": [
    "# control structures"
   ]
  },
  {
   "cell_type": "markdown",
   "metadata": {},
   "source": [
    "<img src = \"dumebi_flowchart_week10_quiz.png\" >"
   ]
  },
  {
   "cell_type": "code",
   "execution_count": null,
   "metadata": {},
   "outputs": [],
   "source": []
  },
  {
   "cell_type": "code",
   "execution_count": 3,
   "metadata": {},
   "outputs": [
    {
     "name": "stdout",
     "output_type": "stream",
     "text": [
      "What is the temperature in Celsius? 50\n",
      "It is hot outside\n",
      "Done\n"
     ]
    }
   ],
   "source": [
    "#If Statement\n",
    "temperature = int(input(\"What is the temperature in Celsius? \"))\n",
    "if temperature > 40:\n",
    "    print(\"It is hot outside\")\n",
    "print(\"Done\")"
   ]
  },
  {
   "cell_type": "code",
   "execution_count": 5,
   "metadata": {},
   "outputs": [
    {
     "name": "stdout",
     "output_type": "stream",
     "text": [
      "What is your name? Somto\n",
      "Your name is ok\n"
     ]
    }
   ],
   "source": [
    "#If else statement example\n",
    "userName = input(\"What is your name? \")\n",
    "if userName == \"Valerie\":\n",
    "    print(\"You have a nice name\")\n",
    "else:\n",
    "    print(\"Your name is ok\")\n",
    "    "
   ]
  },
  {
   "cell_type": "code",
   "execution_count": 6,
   "metadata": {},
   "outputs": [
    {
     "name": "stdout",
     "output_type": "stream",
     "text": [
      "What is the temperature in Celsius? 45\n",
      "It is hot outside\n",
      "Done\n"
     ]
    }
   ],
   "source": [
    "#if else statement\n",
    "temperature = int(input(\"What is the temperature in Celsius? \"))\n",
    "if temperature > 25:\n",
    "    print(\"It is hot outside\")\n",
    "else:\n",
    "    print(\"It is not hot outside\")\n",
    "print(\"Done\")"
   ]
  },
  {
   "cell_type": "code",
   "execution_count": 7,
   "metadata": {},
   "outputs": [
    {
     "name": "stdout",
     "output_type": "stream",
     "text": [
      "a and b are equal\n"
     ]
    }
   ],
   "source": [
    "#if elif else statement\n",
    "a = 33\n",
    "b = 33\n",
    "if b > a:\n",
    "    print(\"b is greater than a\")\n",
    "elif a ==b:\n",
    "    print(\"a and b are equal\")\n",
    "else:\n",
    "    print(\"a is greater than b\")"
   ]
  },
  {
   "cell_type": "code",
   "execution_count": 10,
   "metadata": {},
   "outputs": [
    {
     "name": "stdout",
     "output_type": "stream",
     "text": [
      "What is the temperature in Celsius? 2\n",
      "It is not hot outside\n",
      "Done\n"
     ]
    }
   ],
   "source": [
    "#if elif else statement\n",
    "temperature = int(input(\"What is the temperature in Celsius? \"))\n",
    "if temperature > 90:\n",
    "    print(\"It is boiling hot outside\")\n",
    "elif 30 < temperature < 90: \n",
    "    print(\"It is cold outside\")\n",
    "else:\n",
    "    print(\"It is not hot outside\")\n",
    "print(\"Done\")"
   ]
  },
  {
   "cell_type": "code",
   "execution_count": 11,
   "metadata": {},
   "outputs": [
    {
     "name": "stdout",
     "output_type": "stream",
     "text": [
      "Above ten\n",
      "and also above twenty\n"
     ]
    }
   ],
   "source": [
    "#nested if statement\n",
    "x = 41\n",
    "if x > 10:\n",
    "    print(\"Above ten\")\n",
    "    if x> 20:\n",
    "        print(\"and also above twenty\")\n",
    "    else: \n",
    "        print(\"but not above twenty\")"
   ]
  },
  {
   "cell_type": "code",
   "execution_count": 12,
   "metadata": {},
   "outputs": [
    {
     "name": "stdout",
     "output_type": "stream",
     "text": [
      "1\n",
      "4\n",
      "16\n",
      "36\n",
      "121\n",
      "400\n"
     ]
    }
   ],
   "source": [
    "#for  loop\n",
    "\n",
    "#programme to print squares of all numbers present in a list\n",
    "#list of integer questions\n",
    "\n",
    "numbers = [1,2,4,6,11,20]\n",
    "#variable to store the square of each number temporarily\n",
    "sq = 0\n",
    "#iterating over the given list\n",
    "for val in numbers: #calculating square of each number\n",
    "    sq = val * val\n",
    "    #displaying the squares\n",
    "    print(sq)"
   ]
  },
  {
   "cell_type": "code",
   "execution_count": 13,
   "metadata": {},
   "outputs": [
    {
     "name": "stdout",
     "output_type": "stream",
     "text": [
      "0\n",
      "1\n",
      "2\n",
      "3\n",
      "4\n",
      "5\n",
      "6\n",
      "7\n",
      "8\n",
      "9\n",
      "1\n",
      "2\n",
      "3\n",
      "4\n",
      "5\n",
      "6\n",
      "7\n",
      "8\n",
      "9\n",
      "10\n",
      "1\n",
      "2\n",
      "3\n",
      "4\n",
      "5\n",
      "6\n",
      "7\n",
      "8\n",
      "9\n",
      "10\n",
      "2\n",
      "4\n",
      "6\n",
      "8\n",
      "10\n",
      "2\n",
      "4\n",
      "6\n",
      "8\n",
      "10\n"
     ]
    }
   ],
   "source": [
    "#for loop example\n",
    "#print the numbers 0 to 9\n",
    "for i in range(10):\n",
    "    print(i)\n",
    "#Two ways to print the numbers 1 to 10\n",
    "for i in range(1,11):\n",
    "    print(i)\n",
    "\n",
    "for i in range(10):\n",
    "    print(i + 1)\n",
    "    \n",
    "#Two ways to print the even numbers 2 to 10\n",
    "for i in range(2,12,2):\n",
    "    print(i)\n",
    "for i in range(5):\n",
    "    print((i + 1)*2)"
   ]
  },
  {
   "cell_type": "code",
   "execution_count": 14,
   "metadata": {},
   "outputs": [
    {
     "name": "stdout",
     "output_type": "stream",
     "text": [
      "0\n",
      "1\n",
      "2\n",
      "3\n",
      "4\n",
      "5\n",
      "6\n",
      "7\n",
      "8\n",
      "9\n",
      "0\n",
      "1\n",
      "2\n",
      "3\n",
      "4\n",
      "5\n",
      "6\n",
      "7\n",
      "8\n",
      "9\n"
     ]
    }
   ],
   "source": [
    "#while loop \n",
    "#a while loop can be used anywhere a for loop is used\n",
    "i = 0\n",
    "while i < 10:\n",
    "    print(i)\n",
    "    i = i + 1\n",
    "#This can be done with subtraction, and multiplication as well.\n",
    "i = 0\n",
    "while i < 10:\n",
    "    print(i)\n",
    "    i+=1"
   ]
  },
  {
   "cell_type": "code",
   "execution_count": 15,
   "metadata": {},
   "outputs": [
    {
     "name": "stdout",
     "output_type": "stream",
     "text": [
      "Do you want to quit? n\n",
      "Does your elf attach the dragon? y\n",
      "Bad choice, you died\n"
     ]
    }
   ],
   "source": [
    "#while loop\n",
    "#There may be several ways for a loop to quit. Using a Boolean to trigger the event is a way of handling that.\n",
    "\n",
    "done = False\n",
    "while not done:\n",
    "    quit = input(\"Do you want to quit? \")\n",
    "    if quit == \"y\":\n",
    "        done = True\n",
    "    \n",
    "    attack = input(\"Does your elf attach the dragon? \")\n",
    "    if attack == \"y\":\n",
    "        print(\"Bad choice, you died\")\n",
    "        done = True"
   ]
  },
  {
   "cell_type": "code",
   "execution_count": 30,
   "metadata": {},
   "outputs": [
    {
     "name": "stdout",
     "output_type": "stream",
     "text": [
      "Quadratic function: (a* (x^2)) + (b*x) + c\n",
      "a: 1\n",
      "b: 0\n",
      "c: 1\n",
      "No roots, discriminant < 0.\n"
     ]
    }
   ],
   "source": [
    "#quadratic function\n",
    "\n",
    "from math import sqrt\n",
    "\n",
    "print(\"Quadratic function: (a* (x^2)) + (b*x) + c\")\n",
    "a = float(input(\"a: \"))\n",
    "b = float(input(\"b: \"))\n",
    "c = float(input(\"c: \"))\n",
    "\n",
    "r = b**2 - 4*a*c\n",
    "\n",
    "if r > 0:\n",
    "    num_roots = 2\n",
    "    x1 = (((-b) + sqrt(r))/(2*a))\n",
    "    x2 = (((-b) - sqrt(r))/(2*a))\n",
    "    print(\"There are 2 roots: %f and %f\" % (x1, x2))\n",
    "    \n",
    "elif r == 0:\n",
    "    num_roots = 1\n",
    "    x = (-b)/2*a\n",
    "    print(\"There is one root: \", x)\n",
    "    \n",
    "else:\n",
    "    num_roots = 0\n",
    "    print(\"No roots, discriminant < 0.\")\n",
    "    exit()"
   ]
  },
  {
   "cell_type": "code",
   "execution_count": null,
   "metadata": {},
   "outputs": [],
   "source": []
  }
 ],
 "metadata": {
  "kernelspec": {
   "display_name": "Python 3",
   "language": "python",
   "name": "python3"
  },
  "language_info": {
   "codemirror_mode": {
    "name": "ipython",
    "version": 3
   },
   "file_extension": ".py",
   "mimetype": "text/x-python",
   "name": "python",
   "nbconvert_exporter": "python",
   "pygments_lexer": "ipython3",
   "version": "3.8.5"
  }
 },
 "nbformat": 4,
 "nbformat_minor": 4
}
